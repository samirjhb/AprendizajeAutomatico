{
  "nbformat": 4,
  "nbformat_minor": 0,
  "metadata": {
    "colab": {
      "provenance": [],
      "collapsed_sections": [
        "OGxs0n068eCx",
        "xyKGjg2K8Q2y"
      ],
      "mount_file_id": "1GIQeHtHF4w_I_OiJORxPoPASfFe8SeYy",
      "authorship_tag": "ABX9TyOWFP9q77pUHOEtgebp7CQB",
      "include_colab_link": true
    },
    "kernelspec": {
      "name": "python3",
      "display_name": "Python 3"
    },
    "language_info": {
      "name": "python"
    }
  },
  "cells": [
    {
      "cell_type": "markdown",
      "metadata": {
        "id": "view-in-github",
        "colab_type": "text"
      },
      "source": [
        "<a href=\"https://colab.research.google.com/github/samirjhb/AprendizajeAutomatico/blob/main/AprendizajeAutomatico.ipynb\" target=\"_parent\"><img src=\"https://colab.research.google.com/assets/colab-badge.svg\" alt=\"Open In Colab\"/></a>"
      ]
    },
    {
      "cell_type": "code",
      "execution_count": 2,
      "metadata": {
        "colab": {
          "base_uri": "https://localhost:8080/",
          "height": 270
        },
        "id": "npAKldHQl9Je",
        "outputId": "bd86ebb2-ac3d-416c-9d1c-9629ae78ac20"
      },
      "outputs": [
        {
          "output_type": "execute_result",
          "data": {
            "text/plain": [
              "   spi_rank      country  spi_score  basic_human_needs  wellbeing  \\\n",
              "0       1.0       Norway      92.63              95.29      93.30   \n",
              "1       2.0      Finland      92.26              95.62      93.09   \n",
              "2       3.0      Denmark      92.15              95.30      92.74   \n",
              "3       4.0      Iceland      91.78              96.66      93.65   \n",
              "4       5.0  Switzerland      91.78              95.25      93.80   \n",
              "\n",
              "   opportunity  basic_nutri_med_care  water_sanitation  shelter  \\\n",
              "0        89.30                 98.81             98.33    93.75   \n",
              "1        88.07                 98.99             99.26    96.48   \n",
              "2        88.41                 98.62             98.21    94.92   \n",
              "3        85.04                 98.99             98.82    93.16   \n",
              "4        86.28                 98.72             98.96    92.97   \n",
              "\n",
              "   personal_safety  access_basic_knowledge  access_info_comm  health_wellness  \\\n",
              "0            90.29                   98.66             95.80            89.32   \n",
              "1            87.75                   96.32             95.14            85.73   \n",
              "2            89.46                   97.44             98.18            85.15   \n",
              "3            95.66                   99.51             93.12            91.02   \n",
              "4            90.35                   98.60             95.07            91.50   \n",
              "\n",
              "   env_quality  personal_rights  personal_freedom_choice  inclusiveness  \\\n",
              "0        89.44            96.34                    91.16          83.77   \n",
              "1        95.15            96.13                    88.10          82.81   \n",
              "2        90.20            97.08                    90.03          81.64   \n",
              "3        90.93            95.14                    88.01          77.63   \n",
              "4        90.05            96.69                    90.65          74.81   \n",
              "\n",
              "   access_adv_edu  \n",
              "0           85.92  \n",
              "1           85.23  \n",
              "2           84.89  \n",
              "3           79.39  \n",
              "4           82.99  "
            ],
            "text/html": [
              "\n",
              "  <div id=\"df-424c0528-ad77-490e-bd53-3ac1a0331130\">\n",
              "    <div class=\"colab-df-container\">\n",
              "      <div>\n",
              "<style scoped>\n",
              "    .dataframe tbody tr th:only-of-type {\n",
              "        vertical-align: middle;\n",
              "    }\n",
              "\n",
              "    .dataframe tbody tr th {\n",
              "        vertical-align: top;\n",
              "    }\n",
              "\n",
              "    .dataframe thead th {\n",
              "        text-align: right;\n",
              "    }\n",
              "</style>\n",
              "<table border=\"1\" class=\"dataframe\">\n",
              "  <thead>\n",
              "    <tr style=\"text-align: right;\">\n",
              "      <th></th>\n",
              "      <th>spi_rank</th>\n",
              "      <th>country</th>\n",
              "      <th>spi_score</th>\n",
              "      <th>basic_human_needs</th>\n",
              "      <th>wellbeing</th>\n",
              "      <th>opportunity</th>\n",
              "      <th>basic_nutri_med_care</th>\n",
              "      <th>water_sanitation</th>\n",
              "      <th>shelter</th>\n",
              "      <th>personal_safety</th>\n",
              "      <th>access_basic_knowledge</th>\n",
              "      <th>access_info_comm</th>\n",
              "      <th>health_wellness</th>\n",
              "      <th>env_quality</th>\n",
              "      <th>personal_rights</th>\n",
              "      <th>personal_freedom_choice</th>\n",
              "      <th>inclusiveness</th>\n",
              "      <th>access_adv_edu</th>\n",
              "    </tr>\n",
              "  </thead>\n",
              "  <tbody>\n",
              "    <tr>\n",
              "      <th>0</th>\n",
              "      <td>1.0</td>\n",
              "      <td>Norway</td>\n",
              "      <td>92.63</td>\n",
              "      <td>95.29</td>\n",
              "      <td>93.30</td>\n",
              "      <td>89.30</td>\n",
              "      <td>98.81</td>\n",
              "      <td>98.33</td>\n",
              "      <td>93.75</td>\n",
              "      <td>90.29</td>\n",
              "      <td>98.66</td>\n",
              "      <td>95.80</td>\n",
              "      <td>89.32</td>\n",
              "      <td>89.44</td>\n",
              "      <td>96.34</td>\n",
              "      <td>91.16</td>\n",
              "      <td>83.77</td>\n",
              "      <td>85.92</td>\n",
              "    </tr>\n",
              "    <tr>\n",
              "      <th>1</th>\n",
              "      <td>2.0</td>\n",
              "      <td>Finland</td>\n",
              "      <td>92.26</td>\n",
              "      <td>95.62</td>\n",
              "      <td>93.09</td>\n",
              "      <td>88.07</td>\n",
              "      <td>98.99</td>\n",
              "      <td>99.26</td>\n",
              "      <td>96.48</td>\n",
              "      <td>87.75</td>\n",
              "      <td>96.32</td>\n",
              "      <td>95.14</td>\n",
              "      <td>85.73</td>\n",
              "      <td>95.15</td>\n",
              "      <td>96.13</td>\n",
              "      <td>88.10</td>\n",
              "      <td>82.81</td>\n",
              "      <td>85.23</td>\n",
              "    </tr>\n",
              "    <tr>\n",
              "      <th>2</th>\n",
              "      <td>3.0</td>\n",
              "      <td>Denmark</td>\n",
              "      <td>92.15</td>\n",
              "      <td>95.30</td>\n",
              "      <td>92.74</td>\n",
              "      <td>88.41</td>\n",
              "      <td>98.62</td>\n",
              "      <td>98.21</td>\n",
              "      <td>94.92</td>\n",
              "      <td>89.46</td>\n",
              "      <td>97.44</td>\n",
              "      <td>98.18</td>\n",
              "      <td>85.15</td>\n",
              "      <td>90.20</td>\n",
              "      <td>97.08</td>\n",
              "      <td>90.03</td>\n",
              "      <td>81.64</td>\n",
              "      <td>84.89</td>\n",
              "    </tr>\n",
              "    <tr>\n",
              "      <th>3</th>\n",
              "      <td>4.0</td>\n",
              "      <td>Iceland</td>\n",
              "      <td>91.78</td>\n",
              "      <td>96.66</td>\n",
              "      <td>93.65</td>\n",
              "      <td>85.04</td>\n",
              "      <td>98.99</td>\n",
              "      <td>98.82</td>\n",
              "      <td>93.16</td>\n",
              "      <td>95.66</td>\n",
              "      <td>99.51</td>\n",
              "      <td>93.12</td>\n",
              "      <td>91.02</td>\n",
              "      <td>90.93</td>\n",
              "      <td>95.14</td>\n",
              "      <td>88.01</td>\n",
              "      <td>77.63</td>\n",
              "      <td>79.39</td>\n",
              "    </tr>\n",
              "    <tr>\n",
              "      <th>4</th>\n",
              "      <td>5.0</td>\n",
              "      <td>Switzerland</td>\n",
              "      <td>91.78</td>\n",
              "      <td>95.25</td>\n",
              "      <td>93.80</td>\n",
              "      <td>86.28</td>\n",
              "      <td>98.72</td>\n",
              "      <td>98.96</td>\n",
              "      <td>92.97</td>\n",
              "      <td>90.35</td>\n",
              "      <td>98.60</td>\n",
              "      <td>95.07</td>\n",
              "      <td>91.50</td>\n",
              "      <td>90.05</td>\n",
              "      <td>96.69</td>\n",
              "      <td>90.65</td>\n",
              "      <td>74.81</td>\n",
              "      <td>82.99</td>\n",
              "    </tr>\n",
              "  </tbody>\n",
              "</table>\n",
              "</div>\n",
              "      <button class=\"colab-df-convert\" onclick=\"convertToInteractive('df-424c0528-ad77-490e-bd53-3ac1a0331130')\"\n",
              "              title=\"Convert this dataframe to an interactive table.\"\n",
              "              style=\"display:none;\">\n",
              "        \n",
              "  <svg xmlns=\"http://www.w3.org/2000/svg\" height=\"24px\"viewBox=\"0 0 24 24\"\n",
              "       width=\"24px\">\n",
              "    <path d=\"M0 0h24v24H0V0z\" fill=\"none\"/>\n",
              "    <path d=\"M18.56 5.44l.94 2.06.94-2.06 2.06-.94-2.06-.94-.94-2.06-.94 2.06-2.06.94zm-11 1L8.5 8.5l.94-2.06 2.06-.94-2.06-.94L8.5 2.5l-.94 2.06-2.06.94zm10 10l.94 2.06.94-2.06 2.06-.94-2.06-.94-.94-2.06-.94 2.06-2.06.94z\"/><path d=\"M17.41 7.96l-1.37-1.37c-.4-.4-.92-.59-1.43-.59-.52 0-1.04.2-1.43.59L10.3 9.45l-7.72 7.72c-.78.78-.78 2.05 0 2.83L4 21.41c.39.39.9.59 1.41.59.51 0 1.02-.2 1.41-.59l7.78-7.78 2.81-2.81c.8-.78.8-2.07 0-2.86zM5.41 20L4 18.59l7.72-7.72 1.47 1.35L5.41 20z\"/>\n",
              "  </svg>\n",
              "      </button>\n",
              "      \n",
              "  <style>\n",
              "    .colab-df-container {\n",
              "      display:flex;\n",
              "      flex-wrap:wrap;\n",
              "      gap: 12px;\n",
              "    }\n",
              "\n",
              "    .colab-df-convert {\n",
              "      background-color: #E8F0FE;\n",
              "      border: none;\n",
              "      border-radius: 50%;\n",
              "      cursor: pointer;\n",
              "      display: none;\n",
              "      fill: #1967D2;\n",
              "      height: 32px;\n",
              "      padding: 0 0 0 0;\n",
              "      width: 32px;\n",
              "    }\n",
              "\n",
              "    .colab-df-convert:hover {\n",
              "      background-color: #E2EBFA;\n",
              "      box-shadow: 0px 1px 2px rgba(60, 64, 67, 0.3), 0px 1px 3px 1px rgba(60, 64, 67, 0.15);\n",
              "      fill: #174EA6;\n",
              "    }\n",
              "\n",
              "    [theme=dark] .colab-df-convert {\n",
              "      background-color: #3B4455;\n",
              "      fill: #D2E3FC;\n",
              "    }\n",
              "\n",
              "    [theme=dark] .colab-df-convert:hover {\n",
              "      background-color: #434B5C;\n",
              "      box-shadow: 0px 1px 3px 1px rgba(0, 0, 0, 0.15);\n",
              "      filter: drop-shadow(0px 1px 2px rgba(0, 0, 0, 0.3));\n",
              "      fill: #FFFFFF;\n",
              "    }\n",
              "  </style>\n",
              "\n",
              "      <script>\n",
              "        const buttonEl =\n",
              "          document.querySelector('#df-424c0528-ad77-490e-bd53-3ac1a0331130 button.colab-df-convert');\n",
              "        buttonEl.style.display =\n",
              "          google.colab.kernel.accessAllowed ? 'block' : 'none';\n",
              "\n",
              "        async function convertToInteractive(key) {\n",
              "          const element = document.querySelector('#df-424c0528-ad77-490e-bd53-3ac1a0331130');\n",
              "          const dataTable =\n",
              "            await google.colab.kernel.invokeFunction('convertToInteractive',\n",
              "                                                     [key], {});\n",
              "          if (!dataTable) return;\n",
              "\n",
              "          const docLinkHtml = 'Like what you see? Visit the ' +\n",
              "            '<a target=\"_blank\" href=https://colab.research.google.com/notebooks/data_table.ipynb>data table notebook</a>'\n",
              "            + ' to learn more about interactive tables.';\n",
              "          element.innerHTML = '';\n",
              "          dataTable['output_type'] = 'display_data';\n",
              "          await google.colab.output.renderOutput(dataTable, element);\n",
              "          const docLink = document.createElement('div');\n",
              "          docLink.innerHTML = docLinkHtml;\n",
              "          element.appendChild(docLink);\n",
              "        }\n",
              "      </script>\n",
              "    </div>\n",
              "  </div>\n",
              "  "
            ]
          },
          "metadata": {},
          "execution_count": 2
        }
      ],
      "source": [
        "# Importar librerías necesarias\n",
        "import pandas as pd\n",
        "import matplotlib.pyplot as plt\n",
        "import plotly.express as px\n",
        "import plotly.graph_objects as go\n",
        "from plotly.offline import iplot\n",
        "from sklearn.preprocessing import StandardScaler\n",
        "from sklearn.decomposition import PCA\n",
        "from sklearn.cluster import AgglomerativeClustering\n",
        "\n",
        "data = pd.read_csv(\"./spi.csv\") \n",
        "datos = data\n",
        "data.head()"
      ]
    },
    {
      "cell_type": "code",
      "source": [
        "data.spi_rank.describe()"
      ],
      "metadata": {
        "colab": {
          "base_uri": "https://localhost:8080/"
        },
        "id": "Buw5VL7g6_nC",
        "outputId": "6ca3cb25-b959-4b88-f2b5-aa9a8258c34e"
      },
      "execution_count": 3,
      "outputs": [
        {
          "output_type": "execute_result",
          "data": {
            "text/plain": [
              "count    168.000000\n",
              "mean      84.500000\n",
              "std       48.641546\n",
              "min        1.000000\n",
              "25%       42.750000\n",
              "50%       84.500000\n",
              "75%      126.250000\n",
              "max      168.000000\n",
              "Name: spi_rank, dtype: float64"
            ]
          },
          "metadata": {},
          "execution_count": 3
        }
      ]
    },
    {
      "cell_type": "code",
      "source": [
        "# Limpiar y preprocesar los datos\n",
        "data = data.dropna()\n",
        "data = data.drop_duplicates()\n"
      ],
      "metadata": {
        "id": "hTFBt_hg0-Fc"
      },
      "execution_count": 4,
      "outputs": []
    },
    {
      "cell_type": "code",
      "source": [
        "# Seleccionar las columnas relevantes para el análisis\n",
        "cols_to_keep = [\"access_adv_edu\", \"wellbeing\", \"basic_human_needs\", \"personal_rights\"]\n",
        "data = data[cols_to_keep]"
      ],
      "metadata": {
        "id": "XAn64PA51Fea"
      },
      "execution_count": 5,
      "outputs": []
    },
    {
      "cell_type": "code",
      "source": [
        "# Aplicar estandarización a los datos\n",
        "scaler = StandardScaler()\n",
        "data_scaled = scaler.fit_transform(data)\n"
      ],
      "metadata": {
        "id": "_h9JnBn717p2"
      },
      "execution_count": 6,
      "outputs": []
    },
    {
      "cell_type": "code",
      "source": [
        "# Aplicar PCA para reducir la dimensionalidad de los datos\n",
        "pca = PCA(n_components=2)\n",
        "data_pca = pca.fit_transform(data_scaled)"
      ],
      "metadata": {
        "id": "m_CQM7jD2KWc"
      },
      "execution_count": 7,
      "outputs": []
    },
    {
      "cell_type": "code",
      "source": [
        "# Aplicar agrupamiento jerárquico para clasificar los países\n",
        "agg_clustering = AgglomerativeClustering(n_clusters=2)\n",
        "agg_clustering.fit(data_pca)\n"
      ],
      "metadata": {
        "colab": {
          "base_uri": "https://localhost:8080/"
        },
        "id": "hrYuwjEU2TOw",
        "outputId": "00da46ea-7802-4a8d-b929-25f12e5ec893"
      },
      "execution_count": 8,
      "outputs": [
        {
          "output_type": "execute_result",
          "data": {
            "text/plain": [
              "AgglomerativeClustering()"
            ]
          },
          "metadata": {},
          "execution_count": 8
        }
      ]
    },
    {
      "cell_type": "code",
      "source": [
        "# Asignar las etiquetas de los cluster a cada país\n",
        "data[\"Cluster\"] = agg_clustering.labels_"
      ],
      "metadata": {
        "id": "J5vE2gA62bW2"
      },
      "execution_count": 9,
      "outputs": []
    },
    {
      "cell_type": "code",
      "source": [
        "# Asignar la clasificación de \"mejor\" o \"peor\" a cada país en función de su cluster\n",
        "data[\"Clasificacion\"] = data[\"Cluster\"].apply(lambda x: \"Mejor\" if x == 0 else \"Peor\")\n"
      ],
      "metadata": {
        "id": "OnjYoE0J2hu0"
      },
      "execution_count": 10,
      "outputs": []
    },
    {
      "cell_type": "code",
      "source": [
        "# Visualizar los resultados\n",
        "print(data)"
      ],
      "metadata": {
        "colab": {
          "base_uri": "https://localhost:8080/"
        },
        "id": "NkMQ3NrP2nTN",
        "outputId": "8af17e60-cd8e-4663-accb-d05b38db5d08"
      },
      "execution_count": 11,
      "outputs": [
        {
          "output_type": "stream",
          "name": "stdout",
          "text": [
            "     access_adv_edu  wellbeing  basic_human_needs  personal_rights  Cluster  \\\n",
            "0             85.92      93.30              95.29            96.34        0   \n",
            "1             85.23      93.09              95.62            96.13        0   \n",
            "2             84.89      92.74              95.30            97.08        0   \n",
            "3             79.39      93.65              96.66            95.14        0   \n",
            "4             82.99      93.80              95.25            96.69        0   \n",
            "..              ...        ...                ...              ...      ...   \n",
            "163           29.80      38.41              40.21            23.80        1   \n",
            "164           22.84      35.95              44.94            14.88        1   \n",
            "165           24.76      36.26              35.65            52.04        1   \n",
            "166           26.43      34.83              29.91            52.39        1   \n",
            "167           20.17      34.17              39.96            27.40        1   \n",
            "\n",
            "    Clasificacion  \n",
            "0           Mejor  \n",
            "1           Mejor  \n",
            "2           Mejor  \n",
            "3           Mejor  \n",
            "4           Mejor  \n",
            "..            ...  \n",
            "163          Peor  \n",
            "164          Peor  \n",
            "165          Peor  \n",
            "166          Peor  \n",
            "167          Peor  \n",
            "\n",
            "[168 rows x 6 columns]\n"
          ]
        }
      ]
    },
    {
      "cell_type": "markdown",
      "source": [
        "# Graficas evaluativas"
      ],
      "metadata": {
        "id": "OGxs0n068eCx"
      }
    },
    {
      "cell_type": "code",
      "source": [
        "\n",
        "# Seleccionar los datos de los países clasificados como \"mejor\"\n",
        "data_mejor = data[data[\"Clasificacion\"] == \"Mejor\"]\n",
        "\n",
        "# Seleccionar los datos de los países clasificados como \"peor\"\n",
        "data_peor = data[data[\"Clasificacion\"] == \"Peor\"]\n",
        "\n",
        "# Crear un gráfico de dispersión\n",
        "plt.scatter(data_mejor[\"basic_human_needs\"], data_mejor[\"access_adv_edu\"], color=\"green\", label=\"Mejor\")\n",
        "plt.scatter(data_peor[\"basic_human_needs\"], data_peor[\"access_adv_edu\"], color=\"red\", label=\"Peor\")\n",
        "\n",
        "# Añadir etiquetas y títulos al gráfico\n",
        "plt.xlabel(\"basic_human_needs\")\n",
        "plt.ylabel(\"access_adv_edu\")\n",
        "plt.title(\"Clasificación de países según Necesidades basicas del humano y Educación\")\n",
        "\n",
        "# Añadir leyenda\n",
        "plt.legend()\n",
        "\n",
        "# Mostrar el gráfico\n",
        "plt.show()"
      ],
      "metadata": {
        "colab": {
          "base_uri": "https://localhost:8080/",
          "height": 296
        },
        "id": "hW8TzCLW3Vf2",
        "outputId": "f8f14df4-b03a-4e0c-d38d-37489bb53427"
      },
      "execution_count": 12,
      "outputs": [
        {
          "output_type": "display_data",
          "data": {
            "text/plain": [
              "<Figure size 432x288 with 1 Axes>"
            ],
            "image/png": "[encoded data removed]"
          },
          "metadata": {
            "needs_background": "light"
          }
        }
      ]
    },
    {
      "cell_type": "code",
      "source": [
        "\n",
        "# Seleccionar los datos de los países clasificados como \"mejor\"\n",
        "data_mejor = data[data[\"Clasificacion\"] == \"Mejor\"]\n",
        "\n",
        "# Seleccionar los datos de los países clasificados como \"peor\"\n",
        "data_peor = data[data[\"Clasificacion\"] == \"Peor\"]\n",
        "\n",
        "# Crear un gráfico de dispersión\n",
        "plt.scatter(data_mejor[\"wellbeing\"], data_mejor[\"personal_rights\"], color=\"green\", label=\"Mejor\")\n",
        "plt.scatter(data_peor[\"wellbeing\"], data_peor[\"personal_rights\"], color=\"red\", label=\"Peor\")\n",
        "\n",
        "# Añadir etiquetas y títulos al gráfico\n",
        "plt.xlabel(\"wellbeing\")\n",
        "plt.ylabel(\"personal_rights\")\n",
        "plt.title(\"Clasificación de países entre el bienestar y derechos personales \")\n",
        "\n",
        "# Añadir leyenda\n",
        "plt.legend()\n",
        "\n",
        "# Mostrar el gráfico\n",
        "plt.show()"
      ],
      "metadata": {
        "colab": {
          "base_uri": "https://localhost:8080/",
          "height": 295
        },
        "id": "fM8u-dfc4uoH",
        "outputId": "cf2dd9c6-6d5e-4551-fe5e-80d65541b20f"
      },
      "execution_count": 13,
      "outputs": [
        {
          "output_type": "display_data",
          "data": {
            "text/plain": [
              "<Figure size 432x288 with 1 Axes>"
            ],
            "image/png": "[encoded data removed]"
          },
          "metadata": {
            "needs_background": "light"
          }
        }
      ]
    },
    {
      "cell_type": "markdown",
      "source": [
        "# Indice de desarrollo progresivo mundial "
      ],
      "metadata": {
        "id": "xyKGjg2K8Q2y"
      }
    },
    {
      "cell_type": "code",
      "source": [
        "values = dict(type='choropleth',\n",
        "              locations = datos['country'],\n",
        "              locationmode = 'country names',\n",
        "              colorscale = 'Greens',\n",
        "              z = datos['spi_score'],\n",
        "              text = datos['country'],\n",
        "              colorbar = {'title': 'Rangos del Proceso Global'}\n",
        "             )\n",
        "layout = dict(title='Indice del proceso Global',\n",
        "              geo = dict(showframe=True,\n",
        "                         projection = {'type':'azimuthal equal area'}\n",
        "                        )\n",
        "             )\n",
        "figure = go.Figure(data=[values], layout=layout)\n",
        "iplot(figure)"
      ],
      "metadata": {
        "colab": {
          "base_uri": "https://localhost:8080/",
          "height": 542
        },
        "id": "obRzw9mV7iwa",
        "outputId": "514cbd0a-7134-4150-f86b-26d1eeb9191d"
      },
      "execution_count": null,
      "outputs": [
        {
          "output_type": "display_data",
          "data": {
            "text/html": [
              "<html>\n",
              "<head><meta charset=\"utf-8\" /></head>\n",
              "<body>\n",
              "    <div>            <script src=\"https://cdnjs.cloudflare.com/ajax/libs/mathjax/2.7.5/MathJax.js?config=TeX-AMS-MML_SVG\"></script><script type=\"text/javascript\">if (window.MathJax) {MathJax.Hub.Config({SVG: {font: \"STIX-Web\"}});}</script>                <script type=\"text/javascript\">window.PlotlyConfig = {MathJaxConfig: 'local'};</script>\n",
              "        <script src=\"https://cdn.plot.ly/plotly-2.8.3.min.js\"></script>                <div id=\"08872821-8934-47fa-910f-74f86284ddf6\" class=\"plotly-graph-div\" style=\"height:525px; width:100%;\"></div>            <script type=\"text/javascript\">                                    window.PLOTLYENV=window.PLOTLYENV || {};                                    if (document.getElementById(\"08872821-8934-47fa-910f-74f86284ddf6\")) {                    Plotly.newPlot(                        \"08872821-8934-47fa-910f-74f86284ddf6\",                        [{\"colorbar\":{\"title\":{\"text\":\"Rangos del Proceso Global\"}},\"colorscale\":[[0.0,\"rgb(247,252,245)\"],[0.125,\"rgb(229,245,224)\"],[0.25,\"rgb(199,233,192)\"],[0.375,\"rgb(161,217,155)\"],[0.5,\"rgb(116,196,118)\"],[0.625,\"rgb(65,171,93)\"],[0.75,\"rgb(35,139,69)\"],[0.875,\"rgb(0,109,44)\"],[1.0,\"rgb(0,68,27)\"]],\"locationmode\":\"country names\",\"locations\":[\"Norway\",\"Finland\",\"Denmark\",\"Iceland\",\"Switzerland\",\"Canada\",\"Sweden\",\"Netherlands\",\"Japan\",\"Germany\",\"Australia\",\"New Zealand\",\"Ireland\",\"Austria\",\"Luxembourg\",\"Belgium\",\"Korea. Republic of\",\"United Kingdom\",\"France\",\"Spain\",\"Estonia\",\"Czechia\",\"Italy\",\"United States\",\"Portugal\",\"Slovenia\",\"Lithuania\",\"Malta\",\"Cyprus\",\"Singapore\",\"Greece\",\"Israel\",\"Slovakia\",\"Latvia\",\"Poland\",\"Croatia\",\"Chile\",\"Costa Rica\",\"Uruguay\",\"Barbados\",\"Argentina\",\"Hungary\",\"Bulgaria\",\"Romania\",\"Mauritius\",\"Trinidad and Tobago\",\"Serbia\",\"Ukraine\",\"Georgia\",\"Kuwait\",\"Malaysia\",\"Panama\",\"Jamaica\",\"Belarus\",\"Armenia\",\"Albania\",\"Montenegro\",\"Tunisia\",\"Ecuador\",\"Moldova\",\"Peru\",\"Russia\",\"Republic of North Macedonia\",\"Kazakhstan\",\"Brazil\",\"Bosnia and Herzegovina\",\"United Arab Emirates\",\"Mexico\",\"Paraguay\",\"Colombia\",\"Thailand\",\"Sri Lanka\",\"Dominican Republic\",\"Maldives\",\"Suriname\",\"Cuba\",\"Cabo Verde\",\"Vietnam\",\"Mongolia\",\"South Africa\",\"Fiji\",\"Kyrgyzstan\",\"Jordan\",\"Bhutan\",\"Oman\",\"Qatar\",\"Turkey\",\"Lebanon\",\"Bolivia\",\"Algeria\",\"Botswana\",\"West Bank and Gaza\",\"Guyana\",\"Indonesia\",\"Uzbekistan\",\"Bahrain\",\"Philippines\",\"Iran\",\"Ghana\",\"China\",\"Morocco\",\"Sao Tome and Principe\",\"El Salvador\",\"Gabon\",\"Saudi Arabia\",\"Namibia\",\"Azerbaijan\",\"Nicaragua\",\"Egypt\",\"Honduras\",\"Senegal\",\"Guatemala\",\"Nepal\",\"Timor-Leste\",\"India\",\"Kenya\",\"Myanmar\",\"Iraq\",\"Libya\",\"Turkmenistan\",\"Bangladesh\",\"Gambia. The\",\"Tajikistan\",\"Malawi\",\"Benin\",\"Tanzania\",\"Comoros\",\"Cambodia\",\"Solomon Islands\",\"Lesotho\",\"C\\u00f4te d'Ivoire\",\"Syria\",\"Togo\",\"Zimbabwe\",\"Zambia\",\"Sierra Leone\",\"Rwanda\",\"Nigeria\",\"Cameroon\",\"Uganda\",\"Eswatini\",\"Liberia\",\"Pakistan\",\"Burkina Faso\",\"Laos\",\"Djibouti\",\"Congo. Republic of\",\"Ethiopia\",\"Madagascar\",\"Mozambique\",\"Mali\",\"Mauritania\",\"Angola\",\"Equatorial Guinea\",\"Sudan\",\"Papua New Guinea\",\"Haiti\",\"Guinea-Bissau\",\"Guinea\",\"Burundi\",\"Congo. Democratic Republic of\",\"Niger\",\"Yemen\",\"Somalia\",\"Eritrea\",\"Chad\",\"Central African Republic\",\"South Sudan\",\"World\"],\"text\":[\"Norway\",\"Finland\",\"Denmark\",\"Iceland\",\"Switzerland\",\"Canada\",\"Sweden\",\"Netherlands\",\"Japan\",\"Germany\",\"Australia\",\"New Zealand\",\"Ireland\",\"Austria\",\"Luxembourg\",\"Belgium\",\"Korea. Republic of\",\"United Kingdom\",\"France\",\"Spain\",\"Estonia\",\"Czechia\",\"Italy\",\"United States\",\"Portugal\",\"Slovenia\",\"Lithuania\",\"Malta\",\"Cyprus\",\"Singapore\",\"Greece\",\"Israel\",\"Slovakia\",\"Latvia\",\"Poland\",\"Croatia\",\"Chile\",\"Costa Rica\",\"Uruguay\",\"Barbados\",\"Argentina\",\"Hungary\",\"Bulgaria\",\"Romania\",\"Mauritius\",\"Trinidad and Tobago\",\"Serbia\",\"Ukraine\",\"Georgia\",\"Kuwait\",\"Malaysia\",\"Panama\",\"Jamaica\",\"Belarus\",\"Armenia\",\"Albania\",\"Montenegro\",\"Tunisia\",\"Ecuador\",\"Moldova\",\"Peru\",\"Russia\",\"Republic of North Macedonia\",\"Kazakhstan\",\"Brazil\",\"Bosnia and Herzegovina\",\"United Arab Emirates\",\"Mexico\",\"Paraguay\",\"Colombia\",\"Thailand\",\"Sri Lanka\",\"Dominican Republic\",\"Maldives\",\"Suriname\",\"Cuba\",\"Cabo Verde\",\"Vietnam\",\"Mongolia\",\"South Africa\",\"Fiji\",\"Kyrgyzstan\",\"Jordan\",\"Bhutan\",\"Oman\",\"Qatar\",\"Turkey\",\"Lebanon\",\"Bolivia\",\"Algeria\",\"Botswana\",\"West Bank and Gaza\",\"Guyana\",\"Indonesia\",\"Uzbekistan\",\"Bahrain\",\"Philippines\",\"Iran\",\"Ghana\",\"China\",\"Morocco\",\"Sao Tome and Principe\",\"El Salvador\",\"Gabon\",\"Saudi Arabia\",\"Namibia\",\"Azerbaijan\",\"Nicaragua\",\"Egypt\",\"Honduras\",\"Senegal\",\"Guatemala\",\"Nepal\",\"Timor-Leste\",\"India\",\"Kenya\",\"Myanmar\",\"Iraq\",\"Libya\",\"Turkmenistan\",\"Bangladesh\",\"Gambia. The\",\"Tajikistan\",\"Malawi\",\"Benin\",\"Tanzania\",\"Comoros\",\"Cambodia\",\"Solomon Islands\",\"Lesotho\",\"C\\u00f4te d'Ivoire\",\"Syria\",\"Togo\",\"Zimbabwe\",\"Zambia\",\"Sierra Leone\",\"Rwanda\",\"Nigeria\",\"Cameroon\",\"Uganda\",\"Eswatini\",\"Liberia\",\"Pakistan\",\"Burkina Faso\",\"Laos\",\"Djibouti\",\"Congo. Republic of\",\"Ethiopia\",\"Madagascar\",\"Mozambique\",\"Mali\",\"Mauritania\",\"Angola\",\"Equatorial Guinea\",\"Sudan\",\"Papua New Guinea\",\"Haiti\",\"Guinea-Bissau\",\"Guinea\",\"Burundi\",\"Congo. Democratic Republic of\",\"Niger\",\"Yemen\",\"Somalia\",\"Eritrea\",\"Chad\",\"Central African Republic\",\"South Sudan\",\"World\"],\"z\":[92.63,92.26,92.15,91.78,91.78,91.41,91.2,90.57,90.44,90.32,90.28,90.02,89.47,89.44,88.75,88.68,88.42,88.25,88.23,87.53,87.38,86.6,86.56,86.29,85.97,85.83,85.58,85.24,85.03,84.73,84.37,83.81,83.69,83.43,83.08,82.82,82.18,81.73,81.15,80.74,80.38,80.15,78.81,78.41,77.3,76.82,75.99,75.78,75.47,75.32,75.22,75.01,75.0,74.83,74.56,74.51,74.15,73.95,73.85,73.67,73.61,73.45,73.05,72.23,72.06,71.91,71.58,71.52,71.49,71.35,70.96,70.81,70.71,70.49,70.22,70.18,70.0,69.7,69.18,69.17,69.06,68.78,68.77,68.44,68.09,68.07,67.99,67.79,67.69,67.04,66.96,66.73,66.27,66.26,65.9,65.85,65.73,65.72,65.67,65.44,65.24,64.62,64.25,64.05,63.73,63.38,62.9,62.45,60.29,60.19,59.73,59.54,59.06,58.85,58.81,58.76,58.62,58.35,58.23,57.58,56.87,56.49,56.33,55.64,55.43,55.17,54.71,54.52,54.03,53.97,53.89,53.78,53.51,53.33,53.29,53.01,53.01,52.65,52.07,52.02,52.0,51.67,50.82,50.65,50.09,49.91,49.45,48.8,48.75,47.89,47.86,47.63,47.23,46.61,46.4,46.06,45.96,45.59,43.26,42.64,42.11,42.02,38.9,35.62,35.33,34.6,33.53,32.5,65.05],\"type\":\"choropleth\"}],                        {\"geo\":{\"projection\":{\"type\":\"azimuthal equal area\"},\"showframe\":true},\"template\":{\"data\":{\"barpolar\":[{\"marker\":{\"line\":{\"color\":\"#E5ECF6\",\"width\":0.5},\"pattern\":{\"fillmode\":\"overlay\",\"size\":10,\"solidity\":0.2}},\"type\":\"barpolar\"}],\"bar\":[{\"error_x\":{\"color\":\"#2a3f5f\"},\"error_y\":{\"color\":\"#2a3f5f\"},\"marker\":{\"line\":{\"color\":\"#E5ECF6\",\"width\":0.5},\"pattern\":{\"fillmode\":\"overlay\",\"size\":10,\"solidity\":0.2}},\"type\":\"bar\"}],\"carpet\":[{\"aaxis\":{\"endlinecolor\":\"#2a3f5f\",\"gridcolor\":\"white\",\"linecolor\":\"white\",\"minorgridcolor\":\"white\",\"startlinecolor\":\"#2a3f5f\"},\"baxis\":{\"endlinecolor\":\"#2a3f5f\",\"gridcolor\":\"white\",\"linecolor\":\"white\",\"minorgridcolor\":\"white\",\"startlinecolor\":\"#2a3f5f\"},\"type\":\"carpet\"}],\"choropleth\":[{\"colorbar\":{\"outlinewidth\":0,\"ticks\":\"\"},\"type\":\"choropleth\"}],\"contourcarpet\":[{\"colorbar\":{\"outlinewidth\":0,\"ticks\":\"\"},\"type\":\"contourcarpet\"}],\"contour\":[{\"colorbar\":{\"outlinewidth\":0,\"ticks\":\"\"},\"colorscale\":[[0.0,\"#0d0887\"],[0.1111111111111111,\"#46039f\"],[0.2222222222222222,\"#7201a8\"],[0.3333333333333333,\"#9c179e\"],[0.4444444444444444,\"#bd3786\"],[0.5555555555555556,\"#d8576b\"],[0.6666666666666666,\"#ed7953\"],[0.7777777777777778,\"#fb9f3a\"],[0.8888888888888888,\"#fdca26\"],[1.0,\"#f0f921\"]],\"type\":\"contour\"}],\"heatmapgl\":[{\"colorbar\":{\"outlinewidth\":0,\"ticks\":\"\"},\"colorscale\":[[0.0,\"#0d0887\"],[0.1111111111111111,\"#46039f\"],[0.2222222222222222,\"#7201a8\"],[0.3333333333333333,\"#9c179e\"],[0.4444444444444444,\"#bd3786\"],[0.5555555555555556,\"#d8576b\"],[0.6666666666666666,\"#ed7953\"],[0.7777777777777778,\"#fb9f3a\"],[0.8888888888888888,\"#fdca26\"],[1.0,\"#f0f921\"]],\"type\":\"heatmapgl\"}],\"heatmap\":[{\"colorbar\":{\"outlinewidth\":0,\"ticks\":\"\"},\"colorscale\":[[0.0,\"#0d0887\"],[0.1111111111111111,\"#46039f\"],[0.2222222222222222,\"#7201a8\"],[0.3333333333333333,\"#9c179e\"],[0.4444444444444444,\"#bd3786\"],[0.5555555555555556,\"#d8576b\"],[0.6666666666666666,\"#ed7953\"],[0.7777777777777778,\"#fb9f3a\"],[0.8888888888888888,\"#fdca26\"],[1.0,\"#f0f921\"]],\"type\":\"heatmap\"}],\"histogram2dcontour\":[{\"colorbar\":{\"outlinewidth\":0,\"ticks\":\"\"},\"colorscale\":[[0.0,\"#0d0887\"],[0.1111111111111111,\"#46039f\"],[0.2222222222222222,\"#7201a8\"],[0.3333333333333333,\"#9c179e\"],[0.4444444444444444,\"#bd3786\"],[0.5555555555555556,\"#d8576b\"],[0.6666666666666666,\"#ed7953\"],[0.7777777777777778,\"#fb9f3a\"],[0.8888888888888888,\"#fdca26\"],[1.0,\"#f0f921\"]],\"type\":\"histogram2dcontour\"}],\"histogram2d\":[{\"colorbar\":{\"outlinewidth\":0,\"ticks\":\"\"},\"colorscale\":[[0.0,\"#0d0887\"],[0.1111111111111111,\"#46039f\"],[0.2222222222222222,\"#7201a8\"],[0.3333333333333333,\"#9c179e\"],[0.4444444444444444,\"#bd3786\"],[0.5555555555555556,\"#d8576b\"],[0.6666666666666666,\"#ed7953\"],[0.7777777777777778,\"#fb9f3a\"],[0.8888888888888888,\"#fdca26\"],[1.0,\"#f0f921\"]],\"type\":\"histogram2d\"}],\"histogram\":[{\"marker\":{\"pattern\":{\"fillmode\":\"overlay\",\"size\":10,\"solidity\":0.2}},\"type\":\"histogram\"}],\"mesh3d\":[{\"colorbar\":{\"outlinewidth\":0,\"ticks\":\"\"},\"type\":\"mesh3d\"}],\"parcoords\":[{\"line\":{\"colorbar\":{\"outlinewidth\":0,\"ticks\":\"\"}},\"type\":\"parcoords\"}],\"pie\":[{\"automargin\":true,\"type\":\"pie\"}],\"scatter3d\":[{\"line\":{\"colorbar\":{\"outlinewidth\":0,\"ticks\":\"\"}},\"marker\":{\"colorbar\":{\"outlinewidth\":0,\"ticks\":\"\"}},\"type\":\"scatter3d\"}],\"scattercarpet\":[{\"marker\":{\"colorbar\":{\"outlinewidth\":0,\"ticks\":\"\"}},\"type\":\"scattercarpet\"}],\"scattergeo\":[{\"marker\":{\"colorbar\":{\"outlinewidth\":0,\"ticks\":\"\"}},\"type\":\"scattergeo\"}],\"scattergl\":[{\"marker\":{\"colorbar\":{\"outlinewidth\":0,\"ticks\":\"\"}},\"type\":\"scattergl\"}],\"scattermapbox\":[{\"marker\":{\"colorbar\":{\"outlinewidth\":0,\"ticks\":\"\"}},\"type\":\"scattermapbox\"}],\"scatterpolargl\":[{\"marker\":{\"colorbar\":{\"outlinewidth\":0,\"ticks\":\"\"}},\"type\":\"scatterpolargl\"}],\"scatterpolar\":[{\"marker\":{\"colorbar\":{\"outlinewidth\":0,\"ticks\":\"\"}},\"type\":\"scatterpolar\"}],\"scatter\":[{\"marker\":{\"colorbar\":{\"outlinewidth\":0,\"ticks\":\"\"}},\"type\":\"scatter\"}],\"scatterternary\":[{\"marker\":{\"colorbar\":{\"outlinewidth\":0,\"ticks\":\"\"}},\"type\":\"scatterternary\"}],\"surface\":[{\"colorbar\":{\"outlinewidth\":0,\"ticks\":\"\"},\"colorscale\":[[0.0,\"#0d0887\"],[0.1111111111111111,\"#46039f\"],[0.2222222222222222,\"#7201a8\"],[0.3333333333333333,\"#9c179e\"],[0.4444444444444444,\"#bd3786\"],[0.5555555555555556,\"#d8576b\"],[0.6666666666666666,\"#ed7953\"],[0.7777777777777778,\"#fb9f3a\"],[0.8888888888888888,\"#fdca26\"],[1.0,\"#f0f921\"]],\"type\":\"surface\"}],\"table\":[{\"cells\":{\"fill\":{\"color\":\"#EBF0F8\"},\"line\":{\"color\":\"white\"}},\"header\":{\"fill\":{\"color\":\"#C8D4E3\"},\"line\":{\"color\":\"white\"}},\"type\":\"table\"}]},\"layout\":{\"annotationdefaults\":{\"arrowcolor\":\"#2a3f5f\",\"arrowhead\":0,\"arrowwidth\":1},\"autotypenumbers\":\"strict\",\"coloraxis\":{\"colorbar\":{\"outlinewidth\":0,\"ticks\":\"\"}},\"colorscale\":{\"diverging\":[[0,\"#8e0152\"],[0.1,\"#c51b7d\"],[0.2,\"#de77ae\"],[0.3,\"#f1b6da\"],[0.4,\"#fde0ef\"],[0.5,\"#f7f7f7\"],[0.6,\"#e6f5d0\"],[0.7,\"#b8e186\"],[0.8,\"#7fbc41\"],[0.9,\"#4d9221\"],[1,\"#276419\"]],\"sequential\":[[0.0,\"#0d0887\"],[0.1111111111111111,\"#46039f\"],[0.2222222222222222,\"#7201a8\"],[0.3333333333333333,\"#9c179e\"],[0.4444444444444444,\"#bd3786\"],[0.5555555555555556,\"#d8576b\"],[0.6666666666666666,\"#ed7953\"],[0.7777777777777778,\"#fb9f3a\"],[0.8888888888888888,\"#fdca26\"],[1.0,\"#f0f921\"]],\"sequentialminus\":[[0.0,\"#0d0887\"],[0.1111111111111111,\"#46039f\"],[0.2222222222222222,\"#7201a8\"],[0.3333333333333333,\"#9c179e\"],[0.4444444444444444,\"#bd3786\"],[0.5555555555555556,\"#d8576b\"],[0.6666666666666666,\"#ed7953\"],[0.7777777777777778,\"#fb9f3a\"],[0.8888888888888888,\"#fdca26\"],[1.0,\"#f0f921\"]]},\"colorway\":[\"#636efa\",\"#EF553B\",\"#00cc96\",\"#ab63fa\",\"#FFA15A\",\"#19d3f3\",\"#FF6692\",\"#B6E880\",\"#FF97FF\",\"#FECB52\"],\"font\":{\"color\":\"#2a3f5f\"},\"geo\":{\"bgcolor\":\"white\",\"lakecolor\":\"white\",\"landcolor\":\"#E5ECF6\",\"showlakes\":true,\"showland\":true,\"subunitcolor\":\"white\"},\"hoverlabel\":{\"align\":\"left\"},\"hovermode\":\"closest\",\"mapbox\":{\"style\":\"light\"},\"paper_bgcolor\":\"white\",\"plot_bgcolor\":\"#E5ECF6\",\"polar\":{\"angularaxis\":{\"gridcolor\":\"white\",\"linecolor\":\"white\",\"ticks\":\"\"},\"bgcolor\":\"#E5ECF6\",\"radialaxis\":{\"gridcolor\":\"white\",\"linecolor\":\"white\",\"ticks\":\"\"}},\"scene\":{\"xaxis\":{\"backgroundcolor\":\"#E5ECF6\",\"gridcolor\":\"white\",\"gridwidth\":2,\"linecolor\":\"white\",\"showbackground\":true,\"ticks\":\"\",\"zerolinecolor\":\"white\"},\"yaxis\":{\"backgroundcolor\":\"#E5ECF6\",\"gridcolor\":\"white\",\"gridwidth\":2,\"linecolor\":\"white\",\"showbackground\":true,\"ticks\":\"\",\"zerolinecolor\":\"white\"},\"zaxis\":{\"backgroundcolor\":\"#E5ECF6\",\"gridcolor\":\"white\",\"gridwidth\":2,\"linecolor\":\"white\",\"showbackground\":true,\"ticks\":\"\",\"zerolinecolor\":\"white\"}},\"shapedefaults\":{\"line\":{\"color\":\"#2a3f5f\"}},\"ternary\":{\"aaxis\":{\"gridcolor\":\"white\",\"linecolor\":\"white\",\"ticks\":\"\"},\"baxis\":{\"gridcolor\":\"white\",\"linecolor\":\"white\",\"ticks\":\"\"},\"bgcolor\":\"#E5ECF6\",\"caxis\":{\"gridcolor\":\"white\",\"linecolor\":\"white\",\"ticks\":\"\"}},\"title\":{\"x\":0.05},\"xaxis\":{\"automargin\":true,\"gridcolor\":\"white\",\"linecolor\":\"white\",\"ticks\":\"\",\"title\":{\"standoff\":15},\"zerolinecolor\":\"white\",\"zerolinewidth\":2},\"yaxis\":{\"automargin\":true,\"gridcolor\":\"white\",\"linecolor\":\"white\",\"ticks\":\"\",\"title\":{\"standoff\":15},\"zerolinecolor\":\"white\",\"zerolinewidth\":2}}},\"title\":{\"text\":\"Indice del proceso Global\"}},                        {\"responsive\": true}                    ).then(function(){\n",
              "                            \n",
              "var gd = document.getElementById('08872821-8934-47fa-910f-74f86284ddf6');\n",
              "var x = new MutationObserver(function (mutations, observer) {{\n",
              "        var display = window.getComputedStyle(gd).display;\n",
              "        if (!display || display === 'none') {{\n",
              "            console.log([gd, 'removed!']);\n",
              "            Plotly.purge(gd);\n",
              "            observer.disconnect();\n",
              "        }}\n",
              "}});\n",
              "\n",
              "// Listen for the removal of the full notebook cells\n",
              "var notebookContainer = gd.closest('#notebook-container');\n",
              "if (notebookContainer) {{\n",
              "    x.observe(notebookContainer, {childList: true});\n",
              "}}\n",
              "\n",
              "// Listen for the clearing of the current output cell\n",
              "var outputEl = gd.closest('.output');\n",
              "if (outputEl) {{\n",
              "    x.observe(outputEl, {childList: true});\n",
              "}}\n",
              "\n",
              "                        })                };                            </script>        </div>\n",
              "</body>\n",
              "</html>"
            ]
          },
          "metadata": {}
        }
      ]
    },
    {
      "cell_type": "markdown",
      "source": [
        "-----"
      ],
      "metadata": {
        "id": "uRPUMdl12JOz"
      }
    }
  ]
}